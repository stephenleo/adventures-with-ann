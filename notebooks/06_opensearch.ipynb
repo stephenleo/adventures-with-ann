{
 "cells": [
  {
   "cell_type": "code",
   "execution_count": 1,
   "metadata": {},
   "outputs": [],
   "source": [
    "import pandas as pd\n",
    "from tqdm import tqdm\n",
    "from opensearchpy import OpenSearch, RequestsHttpConnection, AWSV4SignerAuth\n",
    "from opensearchpy.helpers import bulk\n",
    "import boto3\n",
    "import requests\n",
    "import polling2\n",
    "import logging\n",
    "\n",
    "# Setup Basic Configuration\n",
    "POLL = 60\n",
    "logging.addLevelName(POLL, 'POLL')\n",
    "\n",
    "logging.basicConfig(level=POLL,\n",
    "                    format='%(asctime)s %(levelname)s: %(message)s',\n",
    "                    datefmt='%Y-%m-%d %H:%M:%S')\n",
    "logging.getLogger().setLevel(POLL)"
   ]
  },
  {
   "cell_type": "markdown",
   "metadata": {},
   "source": [
    "# Read Data"
   ]
  },
  {
   "cell_type": "code",
   "execution_count": 2,
   "metadata": {},
   "outputs": [
    {
     "name": "stdout",
     "output_type": "stream",
     "text": [
      "(97685, 7)\n"
     ]
    },
    {
     "data": {
      "text/html": [
       "<div>\n",
       "<style scoped>\n",
       "    .dataframe tbody tr th:only-of-type {\n",
       "        vertical-align: middle;\n",
       "    }\n",
       "\n",
       "    .dataframe tbody tr th {\n",
       "        vertical-align: top;\n",
       "    }\n",
       "\n",
       "    .dataframe thead th {\n",
       "        text-align: right;\n",
       "    }\n",
       "</style>\n",
       "<table border=\"1\" class=\"dataframe\">\n",
       "  <thead>\n",
       "    <tr style=\"text-align: right;\">\n",
       "      <th></th>\n",
       "      <th>id</th>\n",
       "      <th>parent_id</th>\n",
       "      <th>relevancy_rank</th>\n",
       "      <th>brand</th>\n",
       "      <th>title</th>\n",
       "      <th>text</th>\n",
       "      <th>embedding</th>\n",
       "    </tr>\n",
       "  </thead>\n",
       "  <tbody>\n",
       "    <tr>\n",
       "      <th>0</th>\n",
       "      <td>46683031823_6_Google</td>\n",
       "      <td>46683031823</td>\n",
       "      <td>2</td>\n",
       "      <td>Google</td>\n",
       "      <td>Governor Ron DeSantis accompanied wife to canc...</td>\n",
       "      <td>Everyone who reads our reporting knows the Gel...</td>\n",
       "      <td>[-0.016234327, 0.096927114, -0.0736138, 0.0110...</td>\n",
       "    </tr>\n",
       "    <tr>\n",
       "      <th>1</th>\n",
       "      <td>46686258924_0_Google</td>\n",
       "      <td>46686258924</td>\n",
       "      <td>1</td>\n",
       "      <td>Google</td>\n",
       "      <td>How to enable 2-step verification on your Goog...</td>\n",
       "      <td>Proceed to the next point and use the phone to...</td>\n",
       "      <td>[-0.07577787, 0.05864354, 0.061040197, -0.0203...</td>\n",
       "    </tr>\n",
       "  </tbody>\n",
       "</table>\n",
       "</div>"
      ],
      "text/plain": [
       "                     id    parent_id  relevancy_rank   brand  \\\n",
       "0  46683031823_6_Google  46683031823               2  Google   \n",
       "1  46686258924_0_Google  46686258924               1  Google   \n",
       "\n",
       "                                               title  \\\n",
       "0  Governor Ron DeSantis accompanied wife to canc...   \n",
       "1  How to enable 2-step verification on your Goog...   \n",
       "\n",
       "                                                text  \\\n",
       "0  Everyone who reads our reporting knows the Gel...   \n",
       "1  Proceed to the next point and use the phone to...   \n",
       "\n",
       "                                           embedding  \n",
       "0  [-0.016234327, 0.096927114, -0.0736138, 0.0110...  \n",
       "1  [-0.07577787, 0.05864354, 0.061040197, -0.0203...  "
      ]
     },
     "execution_count": 2,
     "metadata": {},
     "output_type": "execute_result"
    }
   ],
   "source": [
    "articles = pd.read_pickle('../data/articles.pkl')\n",
    "\n",
    "print(articles.shape)\n",
    "articles.head(2)"
   ]
  },
  {
   "cell_type": "markdown",
   "metadata": {},
   "source": [
    "# Opensearch"
   ]
  },
  {
   "cell_type": "code",
   "execution_count": 3,
   "metadata": {},
   "outputs": [],
   "source": [
    "host = \"\"\n",
    "port = 443\n",
    "region = 'us-east-1'\n",
    "credentials = boto3.Session().get_credentials()\n",
    "auth = AWSV4SignerAuth(credentials, region)\n",
    "\n",
    "client = OpenSearch(\n",
    "    hosts = [{'host': host, 'port': port}],\n",
    "    http_auth = auth,\n",
    "    use_ssl = True,\n",
    "    verify_certs = True,\n",
    "    connection_class = RequestsHttpConnection\n",
    ")"
   ]
  },
  {
   "cell_type": "code",
   "execution_count": 4,
   "metadata": {},
   "outputs": [
    {
     "data": {
      "text/plain": [
       "'health status index              uuid                   pri rep docs.count docs.deleted store.size pri.store.size\\ngreen  open   full_article       I5BytbAAS5Wk5QCBDyjaDw  10   0          0            0        2kb            2kb\\nyellow open   python-test-index3 zghM9fXRSJG_K8Nb5xJCOQ   4   1          0            0       832b           832b\\ngreen  open   train_index        KRUXZtfEQb-C6MbeGZ7CQQ  10   0      97685            0      716mb          716mb\\ngreen  open   sample_chunks      sEsNXH0tTY6-EWye1W9e_g  10   0      97685            0      861mb          861mb\\ngreen  open   .kibana_1          jNXBc9tuT-WJbgs7u33hRA   1   0          1            0        5kb            5kb\\n'"
      ]
     },
     "execution_count": 4,
     "metadata": {},
     "output_type": "execute_result"
    }
   ],
   "source": [
    "url = f'https://{host}:{port}/_cat/indices?v'\n",
    "response = requests.get(url, auth=auth)\n",
    "response.text"
   ]
  },
  {
   "cell_type": "markdown",
   "metadata": {},
   "source": [
    "## Helpers"
   ]
  },
  {
   "cell_type": "code",
   "execution_count": 5,
   "metadata": {},
   "outputs": [],
   "source": [
    "def upload_data(client, index_name, df, chunk_size=500):\n",
    "    for idx in tqdm(range(0, len(df), chunk_size)):\n",
    "        # Upload chunk_size number of rows at a time\n",
    "        subset_df = df.iloc[idx:idx + chunk_size]\n",
    "\n",
    "        actions = [\n",
    "            {\n",
    "                '_index': index_name,\n",
    "                '_id': row.id,\n",
    "                '_source': {\n",
    "                    key: value \n",
    "                    for key, value in row._asdict().items() \n",
    "                    if key not in ['Index', 'id']\n",
    "                }\n",
    "            }\n",
    "            for row in subset_df.itertuples()\n",
    "        ]\n",
    "\n",
    "        _, errors = bulk(client, actions, max_retries=2, request_timeout=100)\n",
    "        assert len(errors) == 0, errors\n",
    "\n",
    "    # Refresh the data\n",
    "    client.indices.refresh(index_name, request_timeout=1000)"
   ]
  },
  {
   "cell_type": "markdown",
   "metadata": {},
   "source": [
    "## FAISS Model Training"
   ]
  },
  {
   "cell_type": "markdown",
   "metadata": {},
   "source": [
    "### Create the train_index\n",
    "- Stores vectors for training the FAISS model"
   ]
  },
  {
   "cell_type": "code",
   "execution_count": 6,
   "metadata": {},
   "outputs": [],
   "source": [
    "index_name = 'train_index'\n",
    "emb_col = 'embedding'\n",
    "emb_dim = len(articles.loc[0, emb_col])"
   ]
  },
  {
   "cell_type": "code",
   "execution_count": 7,
   "metadata": {},
   "outputs": [
    {
     "name": "stdout",
     "output_type": "stream",
     "text": [
      "{'acknowledged': True, 'shards_acknowledged': True, 'index': 'train_index'}\n"
     ]
    }
   ],
   "source": [
    "index_body = {\n",
    "    'settings': {\n",
    "        'index': {\n",
    "            'number_of_shards': 10,\n",
    "            'number_of_replicas': 0,\n",
    "            'refresh_interval': -1,\n",
    "        }\n",
    "    },\n",
    "    'mappings': {\n",
    "        'properties': {\n",
    "            emb_col: { \n",
    "                'type': 'knn_vector',\n",
    "                'dimension': emb_dim\n",
    "            }\n",
    "        }\n",
    "    }\n",
    "}\n",
    "\n",
    "if client.indices.exists(index=index_name):\n",
    "    # Delete the index if it exists\n",
    "    client.indices.delete(index=index_name)\n",
    "\n",
    "response = client.indices.create(index_name, body=index_body)\n",
    "print(response)"
   ]
  },
  {
   "cell_type": "markdown",
   "metadata": {},
   "source": [
    "### Upload vectors"
   ]
  },
  {
   "cell_type": "code",
   "execution_count": 8,
   "metadata": {},
   "outputs": [
    {
     "name": "stderr",
     "output_type": "stream",
     "text": [
      "100%|██████████| 196/196 [14:45<00:00,  4.52s/it]\n"
     ]
    }
   ],
   "source": [
    "upload_data(client, index_name='train_index', df=articles[['id', emb_col]])"
   ]
  },
  {
   "cell_type": "markdown",
   "metadata": {},
   "source": [
    "### Train FAISS Model"
   ]
  },
  {
   "cell_type": "code",
   "execution_count": 9,
   "metadata": {},
   "outputs": [
    {
     "name": "stdout",
     "output_type": "stream",
     "text": [
      "{'model_id': 'faiss_ivf_pq', 'result': 'deleted'}\n",
      "{\"model_id\":\"faiss_ivf_pq\"}\n"
     ]
    }
   ],
   "source": [
    "model_name = 'faiss_ivf_pq'\n",
    "url = f'https://{host}:{port}/_plugins/_knn/models/{model_name}'\n",
    "\n",
    "payload = {\n",
    "    'training_index': index_name,\n",
    "    'training_field': emb_col,\n",
    "    'dimension': emb_dim,\n",
    "    'description': 'FAISS IVF-PQ ANN index',\n",
    "    'method': {\n",
    "        'name': 'ivf',\n",
    "        'engine': 'faiss',\n",
    "        'space_type': 'l2',\n",
    "        'parameters':{\n",
    "            'nlist': 2048,\n",
    "            'nprobes': 256,\n",
    "            'encoder':{\n",
    "                'name':'pq',\n",
    "                'parameters':{\n",
    "                    'code_size': 8,\n",
    "                    'm': 8\n",
    "                }\n",
    "            }\n",
    "        }\n",
    "    }\n",
    "}\n",
    "\n",
    "if requests.get(url, auth=auth).status_code != 404:\n",
    "    # Delete if model exists\n",
    "    response = requests.delete(url, auth=auth)\n",
    "    print(response.json())\n",
    "\n",
    "# Train the model\n",
    "response = requests.post(f'{url}/_train', json=payload, auth=auth)\n",
    "print(response.text)"
   ]
  },
  {
   "cell_type": "markdown",
   "metadata": {},
   "source": [
    "### Poll the Training job"
   ]
  },
  {
   "cell_type": "code",
   "execution_count": 10,
   "metadata": {},
   "outputs": [
    {
     "name": "stderr",
     "output_type": "stream",
     "text": [
      "2022-05-21 09:38:09 POLL: poll() calls check_success(False)\n",
      "2022-05-21 09:39:21 POLL: poll() calls check_success(False)\n",
      "2022-05-21 09:40:41 POLL: poll() calls check_success(False)\n",
      "2022-05-21 09:41:43 POLL: poll() calls check_success(False)\n",
      "2022-05-21 09:42:44 POLL: poll() calls check_success(False)\n",
      "2022-05-21 09:43:46 POLL: poll() calls check_success(False)\n",
      "2022-05-21 09:44:47 POLL: poll() calls check_success(False)\n",
      "2022-05-21 09:45:48 POLL: poll() calls check_success(False)\n",
      "2022-05-21 09:46:50 POLL: poll() calls check_success(False)\n",
      "2022-05-21 09:47:51 POLL: poll() calls check_success(False)\n",
      "2022-05-21 09:48:52 POLL: poll() calls check_success(False)\n",
      "2022-05-21 09:49:53 POLL: poll() calls check_success(False)\n",
      "2022-05-21 09:50:55 POLL: poll() calls check_success(False)\n",
      "2022-05-21 09:51:56 POLL: poll() calls check_success(True)\n"
     ]
    }
   ],
   "source": [
    "url = f'https://{host}:{port}/_plugins/_knn/models/{model_name}?filter_path=state&pretty'\n",
    "\n",
    "polling2.poll(\n",
    "    lambda: requests.get(url, auth=auth).json()['state'] != 'training',\n",
    "    step=60,\n",
    "    poll_forever=True,\n",
    "    log=POLL)\n",
    "\n",
    "training_status = requests.get(url, auth=auth).json()['state']\n",
    "assert training_status=='created', training_status"
   ]
  },
  {
   "cell_type": "markdown",
   "metadata": {},
   "source": [
    "## ANN Search"
   ]
  },
  {
   "cell_type": "markdown",
   "metadata": {},
   "source": [
    "### Create the ANN Search Index with model trained in previous step"
   ]
  },
  {
   "cell_type": "code",
   "execution_count": 11,
   "metadata": {},
   "outputs": [
    {
     "name": "stdout",
     "output_type": "stream",
     "text": [
      "{'acknowledged': True, 'shards_acknowledged': True, 'index': 'sample_chunks'}\n"
     ]
    }
   ],
   "source": [
    "index_name = 'chunk_texts_index'\n",
    "index_body = {\n",
    "    'settings': {\n",
    "        'index': {\n",
    "            'knn': True,\n",
    "            'number_of_shards': 10,\n",
    "            'number_of_replicas': 0,\n",
    "            'refresh_interval': -1,\n",
    "        }\n",
    "    },\n",
    "    'mappings': {\n",
    "        'properties': {\n",
    "            # emb_col: {\n",
    "            #     \"type\": \"knn_vector\",\n",
    "            #     \"dimension\": emb_dim,\n",
    "            #     \"method\": {\n",
    "            #         \"name\": \"hnsw\",\n",
    "            #         \"space_type\": \"l2\",\n",
    "            #         \"engine\": \"nmslib\",\n",
    "            #         \"parameters\": {\n",
    "            #             \"ef_construction\": 128,\n",
    "            #             \"m\": 24\n",
    "            #         }\n",
    "            #     }\n",
    "            # }\n",
    "            emb_col: { \n",
    "                'type': 'knn_vector',\n",
    "                'model_id': model_name,\n",
    "            }\n",
    "        }\n",
    "    }\n",
    "}\n",
    "\n",
    "if client.indices.exists(index=index_name):\n",
    "    # Delete the index if it exists\n",
    "    client.indices.delete(index=index_name)\n",
    "\n",
    "response = client.indices.create(index_name, body=index_body)\n",
    "print(response)"
   ]
  },
  {
   "cell_type": "markdown",
   "metadata": {},
   "source": [
    "### Upload Data"
   ]
  },
  {
   "cell_type": "code",
   "execution_count": 12,
   "metadata": {},
   "outputs": [
    {
     "name": "stderr",
     "output_type": "stream",
     "text": [
      "100%|██████████| 977/977 [24:08<00:00,  1.48s/it]  \n"
     ]
    }
   ],
   "source": [
    "upload_data(client, index_name=index_name, df=articles, chunk_size=100)"
   ]
  },
  {
   "cell_type": "markdown",
   "metadata": {},
   "source": [
    "### Warmup"
   ]
  },
  {
   "cell_type": "code",
   "execution_count": 13,
   "metadata": {},
   "outputs": [
    {
     "data": {
      "text/plain": [
       "{'_shards': {'total': 10, 'successful': 10, 'failed': 0}}"
      ]
     },
     "execution_count": 13,
     "metadata": {},
     "output_type": "execute_result"
    }
   ],
   "source": [
    "url = f'https://{host}:{port}/_plugins/_knn/warmup/{index_name}?pretty'\n",
    "response = requests.get(url, auth=auth)\n",
    "response.json()"
   ]
  },
  {
   "cell_type": "code",
   "execution_count": 14,
   "metadata": {},
   "outputs": [
    {
     "name": "stdout",
     "output_type": "stream",
     "text": [
      "[{'epoch': '1653099453', 'timestamp': '02:17:33', 'count': '97685'}]\n"
     ]
    }
   ],
   "source": [
    "# Check number of records after update\n",
    "print(client.cat.count(index_name, params={\"format\": \"json\"}))"
   ]
  },
  {
   "cell_type": "markdown",
   "metadata": {},
   "source": [
    "## Query"
   ]
  },
  {
   "cell_type": "markdown",
   "metadata": {},
   "source": [
    "### Query by ID"
   ]
  },
  {
   "cell_type": "code",
   "execution_count": null,
   "metadata": {},
   "outputs": [],
   "source": [
    "client.get(index=index_name, id='46683031823_6_Google')"
   ]
  },
  {
   "cell_type": "markdown",
   "metadata": {},
   "source": [
    "### Query by search term"
   ]
  },
  {
   "cell_type": "code",
   "execution_count": null,
   "metadata": {},
   "outputs": [],
   "source": [
    "q = 'google'\n",
    "num_results = 5\n",
    "\n",
    "query = {\n",
    "    'size': num_results,\n",
    "    'query': {\n",
    "        'multi_match': {\n",
    "            'query': q,\n",
    "            'fields': ['brand', 'title', 'text']\n",
    "        }\n",
    "    }\n",
    "}\n",
    "\n",
    "response = client.search(\n",
    "    index=index_name,\n",
    "    body=query\n",
    ")\n",
    "\n",
    "assert len(response['hits']['hits'])==num_results\n",
    "print(response)"
   ]
  },
  {
   "cell_type": "markdown",
   "metadata": {},
   "source": [
    "### Vector Search"
   ]
  },
  {
   "cell_type": "code",
   "execution_count": 20,
   "metadata": {},
   "outputs": [
    {
     "data": {
      "text/plain": [
       "'How to add Google Sheets to Google Slides'"
      ]
     },
     "execution_count": 20,
     "metadata": {},
     "output_type": "execute_result"
    }
   ],
   "source": [
    "articles.loc[2, 'title']"
   ]
  },
  {
   "cell_type": "code",
   "execution_count": 19,
   "metadata": {},
   "outputs": [
    {
     "data": {
      "text/plain": [
       "[{'_index': 'sample_chunks',\n",
       "  '_type': '_doc',\n",
       "  '_id': '46687483861_0_Google',\n",
       "  '_score': 0.74406916,\n",
       "  '_source': {'text': 'You can use Google Apps Script to insert data from Google Sheets into Google Slides templates and create hundreds of beautiful slides in minutes. In this post, I’ll show you how to integrate Google Sheets with your Google Slides presentations and some helpful tips to help you get the most out of your integration',\n",
       "   'title': 'How to add Google Sheets to Google Slides'}},\n",
       " {'_index': 'sample_chunks',\n",
       "  '_type': '_doc',\n",
       "  '_id': '46687483861_1_Google',\n",
       "  '_score': 0.7034443,\n",
       "  '_source': {'text': 'How to add a Google spreadsheet to Google Slides Add a table to your presentation : Adding a Google Sheets chart to your Google Slides presentation is an easy process. You can do this by following these steps: : Open the Google Slides presentation where you want to embed the graphic. Click the number of the slide you want to view. Open the Google Sheets file that requires the data. Click and drag the cursor to select the data you want to use.Right click[コピー]Select or from the top menu[編集]Click. next,[コピー]Click. In a Google Slides presentation, right-click on the slide in question[貼り付け]Select or from the top menu[編集]Click[貼り付け]Click. A small window will appear asking if you want to link the table to the spreadsheet. .. Select the option you need.[スプレッドシートへのリンク]The option allows you to update the presentation table each time the original worksheet is updated.[リンクを解除して貼り付け]If you select, only the current data will be copied to the file.[貼り付け]Click to continue. You can adjust the pasted table by clicking and dragging the corners or sides. Hover over the corner or side of the table until the cursor changes to a double-headed arrow. Press and hold and drag until the table is the size you want.Add a chart to your presentation : You can also add charts created in Google Sheets to your Google Slides presentation. To do this, follow these steps: : Open the presentation where you want to insert the chart. Select the slide you want to paste.Top menu[挿入]Click and[グラフ]Hover over to[シートから]Click. You will be given the option to insert a graphic from Google Drive. Once you find the spreadsheet you need,[選択]Click. If you want to link your spreadsheet to Google Slides, make sure the checkbox at the bottom right is enabled. When you’re done[インポート]Choose. If your spreadsheet doesn’t have a chart,[インポート]The button is grayed out. You can adjust the table by following the same steps as adjusting the table above. The options for linked charts are limited to unlinking and opening the source file.Updates made to the original file are displayed in the upper right corner of the graph[更新]You can reflect it on the graph by clicking the icon.Last word: How to add Google Sheets to Google Slides : I hope you understand this article. How to add Google Sheets to Google Slides. If the answer is no, you can ask from the contact forum section related to this article. And if your answer is yes, share this article with your family and friends.',\n",
       "   'title': 'How to add Google Sheets to Google Slides'}},\n",
       " {'_index': 'sample_chunks',\n",
       "  '_type': '_doc',\n",
       "  '_id': '46687483861_3_Google',\n",
       "  '_score': 0.691374,\n",
       "  '_source': {'text': 'This tutorial is about how to add Google Sheets to Google Slides. We will do our best to help you understand this guide. I hope you like this blog. . If your answer is yes, share it after reading this',\n",
       "   'title': 'How to add Google Sheets to Google Slides'}},\n",
       " {'_index': 'sample_chunks',\n",
       "  '_type': '_doc',\n",
       "  '_id': '46687483861_2_Google',\n",
       "  '_score': 0.68668103,\n",
       "  '_source': {'text': 'Find out how to add Google Sheets to Google Slides : When you create a web page, you work with rows of data. very. But what if senior management needs more information about the project annotated in the data export? You need to transform a stunning spreadsheet with filters and color coding that only you can understand into a more readable format. Then there’s the tedious task of copying the content and pasting it into your presentation',\n",
       "   'title': 'How to add Google Sheets to Google Slides'}},\n",
       " {'_index': 'sample_chunks',\n",
       "  '_type': '_doc',\n",
       "  '_id': '46718919475_0_Google',\n",
       "  '_score': 0.6794029,\n",
       "  '_source': {'text': 'This means you’re ready to use Google Slides right away. There is no setup necessary, nor is any hefty software required to be downloaded and operated ::: So, let’s have a look at some of the advantages of Google Slides in such a scenario— \\n Real-time Collaboration \\nThe ability to allow real-time collaboration on presentations with other team members was what made Google Slides an instant hit with its early users ::: Innov8tiv \\n Innov8tiv - Blacks In Technology in USA, UK, Caribbean Islands & Africa \\n \\nMany governments across the world have taken significant measures in recent weeks to limit the spread of COVID-19. Many people are working from home since some countries are on lockdown ::: Advantages of Google Slides In Delivering Presentation In Remote Setting \\n Innov8tiv.com ::: Ultimately, selecting the best presenting application comes down to your scenario, demands, comfort, and price. Google Slides is ideal for creating a basic yet appealing presentation. It is ideal for beginners, amateurs, and even pros. It was designed with the needs of the present generation in mind. It is simple to use and offers some excellent collaborative options',\n",
       "   'title': 'Advantages of Google Slides In Delivering Presentation In Remote Setting'}}]"
      ]
     },
     "execution_count": 19,
     "metadata": {},
     "output_type": "execute_result"
    }
   ],
   "source": [
    "index_name = 'chunk_texts_index'\n",
    "num_results = 5\n",
    "query_vector = articles.loc[2, emb_col].tolist()\n",
    "\n",
    "query = {\n",
    "    'size': num_results,\n",
    "    '_source': ['_id', 'title', 'text'],\n",
    "    'query': {\n",
    "        'knn': {\n",
    "            emb_col: {\n",
    "                'vector': query_vector,\n",
    "                'k': num_results,\n",
    "            }\n",
    "        }\n",
    "    }\n",
    "}\n",
    "\n",
    "response = client.search(\n",
    "    index=index_name,\n",
    "    body=query\n",
    ")\n",
    "\n",
    "response['hits']['hits']"
   ]
  },
  {
   "cell_type": "markdown",
   "metadata": {},
   "source": [
    "## Clean up"
   ]
  },
  {
   "cell_type": "code",
   "execution_count": 25,
   "metadata": {},
   "outputs": [
    {
     "name": "stdout",
     "output_type": "stream",
     "text": [
      "health status index              uuid                   pri rep docs.count docs.deleted store.size pri.store.size\n",
      "green  open   full_article       I5BytbAAS5Wk5QCBDyjaDw  10   0          0            0        2kb            2kb\n",
      "yellow open   python-test-index3 zghM9fXRSJG_K8Nb5xJCOQ   4   1          0            0       832b           832b\n",
      "green  open   .kibana_1          jNXBc9tuT-WJbgs7u33hRA   1   0          1            0        5kb            5kb\n",
      "\n"
     ]
    }
   ],
   "source": [
    "url = f'https://{host}:{port}/_cat/indices?v'\n",
    "response = requests.get(url, auth=auth)\n",
    "print(response.text)"
   ]
  },
  {
   "cell_type": "code",
   "execution_count": 28,
   "metadata": {},
   "outputs": [
    {
     "name": "stdout",
     "output_type": "stream",
     "text": [
      "{'acknowledged': True}\n"
     ]
    }
   ],
   "source": [
    "response = client.indices.delete(index='train_index')\n",
    "print(response)"
   ]
  },
  {
   "cell_type": "code",
   "execution_count": 26,
   "metadata": {},
   "outputs": [
    {
     "name": "stdout",
     "output_type": "stream",
     "text": [
      "{'acknowledged': True}\n"
     ]
    }
   ],
   "source": [
    "response = client.indices.delete(index='chunk_texts_index')\n",
    "print(response)"
   ]
  },
  {
   "cell_type": "code",
   "execution_count": null,
   "metadata": {},
   "outputs": [],
   "source": []
  }
 ],
 "metadata": {
  "interpreter": {
   "hash": "ac0a39534e76755b8a1334574ec535bc535d522311fd20768e8d6305e7dda128"
  },
  "kernelspec": {
   "display_name": "Python 3.9.12 ('ns')",
   "language": "python",
   "name": "python3"
  },
  "language_info": {
   "codemirror_mode": {
    "name": "ipython",
    "version": 3
   },
   "file_extension": ".py",
   "mimetype": "text/x-python",
   "name": "python",
   "nbconvert_exporter": "python",
   "pygments_lexer": "ipython3",
   "version": "3.9.12"
  },
  "orig_nbformat": 4
 },
 "nbformat": 4,
 "nbformat_minor": 2
}
